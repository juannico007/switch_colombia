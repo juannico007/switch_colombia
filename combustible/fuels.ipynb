{
 "cells": [
  {
   "cell_type": "code",
   "execution_count": 1,
   "metadata": {},
   "outputs": [],
   "source": [
    "import pandas as pd"
   ]
  },
  {
   "cell_type": "code",
   "execution_count": 4,
   "metadata": {},
   "outputs": [],
   "source": [
    "comb = pd.read_excel(\"combustibles.xlsx\", sheet_name = \"ccombuco\")"
   ]
  },
  {
   "cell_type": "code",
   "execution_count": 5,
   "metadata": {},
   "outputs": [
    {
     "data": {
      "text/html": [
       "<div>\n",
       "<style scoped>\n",
       "    .dataframe tbody tr th:only-of-type {\n",
       "        vertical-align: middle;\n",
       "    }\n",
       "\n",
       "    .dataframe tbody tr th {\n",
       "        vertical-align: top;\n",
       "    }\n",
       "\n",
       "    .dataframe thead th {\n",
       "        text-align: right;\n",
       "    }\n",
       "</style>\n",
       "<table border=\"1\" class=\"dataframe\">\n",
       "  <thead>\n",
       "    <tr style=\"text-align: right;\">\n",
       "      <th></th>\n",
       "      <th>!Num</th>\n",
       "      <th>Nome</th>\n",
       "      <th>UComb</th>\n",
       "      <th>Custo</th>\n",
       "      <th>EmiCO2</th>\n",
       "      <th>PC</th>\n",
       "      <th>UE</th>\n",
       "      <th>Type[0-Chronological/1-Scenario)</th>\n",
       "    </tr>\n",
       "  </thead>\n",
       "  <tbody>\n",
       "    <tr>\n",
       "      <th>0</th>\n",
       "      <td>1</td>\n",
       "      <td>GASNACIO</td>\n",
       "      <td>MBTU</td>\n",
       "      <td>6.69</td>\n",
       "      <td>0.059</td>\n",
       "      <td>NaN</td>\n",
       "      <td>NaN</td>\n",
       "      <td>0</td>\n",
       "    </tr>\n",
       "    <tr>\n",
       "      <th>1</th>\n",
       "      <td>2</td>\n",
       "      <td>GASIMPOR</td>\n",
       "      <td>MBTU</td>\n",
       "      <td>6.56</td>\n",
       "      <td>0.059</td>\n",
       "      <td>NaN</td>\n",
       "      <td>NaN</td>\n",
       "      <td>0</td>\n",
       "    </tr>\n",
       "    <tr>\n",
       "      <th>2</th>\n",
       "      <td>3</td>\n",
       "      <td>ACPM</td>\n",
       "      <td>MBTU</td>\n",
       "      <td>16.00</td>\n",
       "      <td>0.078</td>\n",
       "      <td>NaN</td>\n",
       "      <td>NaN</td>\n",
       "      <td>0</td>\n",
       "    </tr>\n",
       "    <tr>\n",
       "      <th>3</th>\n",
       "      <td>4</td>\n",
       "      <td>CARBON</td>\n",
       "      <td>MBTU</td>\n",
       "      <td>3.00</td>\n",
       "      <td>0.093</td>\n",
       "      <td>NaN</td>\n",
       "      <td>NaN</td>\n",
       "      <td>0</td>\n",
       "    </tr>\n",
       "    <tr>\n",
       "      <th>4</th>\n",
       "      <td>5</td>\n",
       "      <td>COMBUSTOLEO</td>\n",
       "      <td>MBTU</td>\n",
       "      <td>12.00</td>\n",
       "      <td>0.085</td>\n",
       "      <td>NaN</td>\n",
       "      <td>NaN</td>\n",
       "      <td>0</td>\n",
       "    </tr>\n",
       "  </tbody>\n",
       "</table>\n",
       "</div>"
      ],
      "text/plain": [
       "   !Num         Nome UComb  Custo EmiCO2  PC  UE  \\\n",
       "0     1     GASNACIO  MBTU   6.69  0.059 NaN NaN   \n",
       "1     2     GASIMPOR  MBTU   6.56  0.059 NaN NaN   \n",
       "2     3         ACPM  MBTU  16.00  0.078 NaN NaN   \n",
       "3     4       CARBON  MBTU   3.00  0.093 NaN NaN   \n",
       "4     5  COMBUSTOLEO  MBTU  12.00  0.085 NaN NaN   \n",
       "\n",
       "   Type[0-Chronological/1-Scenario)  \n",
       "0                                 0  \n",
       "1                                 0  \n",
       "2                                 0  \n",
       "3                                 0  \n",
       "4                                 0  "
      ]
     },
     "execution_count": 5,
     "metadata": {},
     "output_type": "execute_result"
    }
   ],
   "source": [
    "comb.head()"
   ]
  },
  {
   "cell_type": "code",
   "execution_count": 8,
   "metadata": {},
   "outputs": [],
   "source": [
    "#DataFrame vacio para el input\n",
    "fuels = pd.DataFrame()"
   ]
  },
  {
   "cell_type": "code",
   "execution_count": 9,
   "metadata": {},
   "outputs": [],
   "source": [
    "#Mapeo de nombres\n",
    "fuels[\"fuel\"] = comb[\"Nome\"]"
   ]
  },
  {
   "cell_type": "code",
   "execution_count": 10,
   "metadata": {},
   "outputs": [],
   "source": [
    "#Mapeo de emisiones\n",
    "fuels[\"co2_intensity\"] = comb[\"EmiCO2\"]"
   ]
  },
  {
   "cell_type": "code",
   "execution_count": 18,
   "metadata": {},
   "outputs": [],
   "source": [
    "#Mapeo de upstream emissions - Aun no esta\n",
    "\n",
    "num_rows = len(fuels.index)\n",
    "up_e = [\".\" for i in range(num_rows)]\n",
    "fuels[\"gen_overnight_costs\"] = up_e"
   ]
  },
  {
   "cell_type": "code",
   "execution_count": 19,
   "metadata": {},
   "outputs": [],
   "source": [
    "fuels.to_csv(\"fuels.csv\")"
   ]
  },
  {
   "cell_type": "code",
   "execution_count": null,
   "metadata": {},
   "outputs": [],
   "source": []
  }
 ],
 "metadata": {
  "kernelspec": {
   "display_name": "Python 3 (ipykernel)",
   "language": "python",
   "name": "python3"
  },
  "language_info": {
   "codemirror_mode": {
    "name": "ipython",
    "version": 3
   },
   "file_extension": ".py",
   "mimetype": "text/x-python",
   "name": "python",
   "nbconvert_exporter": "python",
   "pygments_lexer": "ipython3",
   "version": "3.7.3"
  }
 },
 "nbformat": 4,
 "nbformat_minor": 4
}
