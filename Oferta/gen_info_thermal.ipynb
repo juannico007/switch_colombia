{
 "cells": [
  {
   "cell_type": "code",
   "execution_count": 16,
   "metadata": {},
   "outputs": [],
   "source": [
    "import pandas as pd"
   ]
  },
  {
   "cell_type": "code",
   "execution_count": 17,
   "metadata": {},
   "outputs": [],
   "source": [
    "p_t = pd.read_excel(\"Plantas termicas.xlsx\", sheet_name = \"ctermico\")"
   ]
  },
  {
   "cell_type": "code",
   "execution_count": 18,
   "metadata": {},
   "outputs": [
    {
     "data": {
      "text/html": [
       "<div>\n",
       "<style scoped>\n",
       "    .dataframe tbody tr th:only-of-type {\n",
       "        vertical-align: middle;\n",
       "    }\n",
       "\n",
       "    .dataframe tbody tr th {\n",
       "        vertical-align: top;\n",
       "    }\n",
       "\n",
       "    .dataframe thead th {\n",
       "        text-align: right;\n",
       "    }\n",
       "</style>\n",
       "<table border=\"1\" class=\"dataframe\">\n",
       "  <thead>\n",
       "    <tr style=\"text-align: right;\">\n",
       "      <th></th>\n",
       "      <th>!Num</th>\n",
       "      <th>...Nombre...</th>\n",
       "      <th>#Uni</th>\n",
       "      <th>Tipo</th>\n",
       "      <th>.PotIns</th>\n",
       "      <th>.GerMin</th>\n",
       "      <th>.GerMax</th>\n",
       "      <th>..Teif.</th>\n",
       "      <th>..Ih...</th>\n",
       "      <th>.CVaria</th>\n",
       "      <th>...</th>\n",
       "      <th>...2</th>\n",
       "      <th>...3</th>\n",
       "      <th>ComT</th>\n",
       "      <th>CTransp</th>\n",
       "      <th>StartUp</th>\n",
       "      <th>sfal</th>\n",
       "      <th>NGas</th>\n",
       "      <th>NuCC</th>\n",
       "      <th>..NombreCC..</th>\n",
       "      <th>CoefE.</th>\n",
       "    </tr>\n",
       "  </thead>\n",
       "  <tbody>\n",
       "    <tr>\n",
       "      <th>0</th>\n",
       "      <td>1001</td>\n",
       "      <td>BARRANQUILL3</td>\n",
       "      <td>1</td>\n",
       "      <td>0</td>\n",
       "      <td>60.0</td>\n",
       "      <td>0</td>\n",
       "      <td>60.0</td>\n",
       "      <td>5.44</td>\n",
       "      <td>21.24</td>\n",
       "      <td>5.53</td>\n",
       "      <td>...</td>\n",
       "      <td>NaN</td>\n",
       "      <td>NaN</td>\n",
       "      <td>0</td>\n",
       "      <td>0</td>\n",
       "      <td>16.682</td>\n",
       "      <td>0</td>\n",
       "      <td>NaN</td>\n",
       "      <td>NaN</td>\n",
       "      <td>NaN</td>\n",
       "      <td>1.0</td>\n",
       "    </tr>\n",
       "    <tr>\n",
       "      <th>1</th>\n",
       "      <td>1003</td>\n",
       "      <td>BARRANQUILL4</td>\n",
       "      <td>1</td>\n",
       "      <td>0</td>\n",
       "      <td>60.0</td>\n",
       "      <td>0</td>\n",
       "      <td>60.0</td>\n",
       "      <td>7.18</td>\n",
       "      <td>21.34</td>\n",
       "      <td>5.53</td>\n",
       "      <td>...</td>\n",
       "      <td>NaN</td>\n",
       "      <td>NaN</td>\n",
       "      <td>0</td>\n",
       "      <td>0</td>\n",
       "      <td>16.682</td>\n",
       "      <td>0</td>\n",
       "      <td>NaN</td>\n",
       "      <td>NaN</td>\n",
       "      <td>NaN</td>\n",
       "      <td>NaN</td>\n",
       "    </tr>\n",
       "    <tr>\n",
       "      <th>2</th>\n",
       "      <td>1068</td>\n",
       "      <td>TEBSAB</td>\n",
       "      <td>1</td>\n",
       "      <td>0</td>\n",
       "      <td>791.0</td>\n",
       "      <td>0</td>\n",
       "      <td>791.0</td>\n",
       "      <td>5.70</td>\n",
       "      <td>9.10</td>\n",
       "      <td>5.53</td>\n",
       "      <td>...</td>\n",
       "      <td>NaN</td>\n",
       "      <td>NaN</td>\n",
       "      <td>0</td>\n",
       "      <td>0</td>\n",
       "      <td>23.347</td>\n",
       "      <td>0</td>\n",
       "      <td>NaN</td>\n",
       "      <td>NaN</td>\n",
       "      <td>NaN</td>\n",
       "      <td>NaN</td>\n",
       "    </tr>\n",
       "    <tr>\n",
       "      <th>3</th>\n",
       "      <td>1069</td>\n",
       "      <td>TEBSAGIM</td>\n",
       "      <td>1</td>\n",
       "      <td>0</td>\n",
       "      <td>791.0</td>\n",
       "      <td>0</td>\n",
       "      <td>791.0</td>\n",
       "      <td>5.70</td>\n",
       "      <td>9.10</td>\n",
       "      <td>5.53</td>\n",
       "      <td>...</td>\n",
       "      <td>0.0</td>\n",
       "      <td>0.0</td>\n",
       "      <td>0</td>\n",
       "      <td>0</td>\n",
       "      <td>23.347</td>\n",
       "      <td>0</td>\n",
       "      <td>NaN</td>\n",
       "      <td>NaN</td>\n",
       "      <td>NaN</td>\n",
       "      <td>NaN</td>\n",
       "    </tr>\n",
       "    <tr>\n",
       "      <th>4</th>\n",
       "      <td>1036</td>\n",
       "      <td>FLORES 1</td>\n",
       "      <td>1</td>\n",
       "      <td>0</td>\n",
       "      <td>160.0</td>\n",
       "      <td>0</td>\n",
       "      <td>160.0</td>\n",
       "      <td>3.76</td>\n",
       "      <td>9.20</td>\n",
       "      <td>5.53</td>\n",
       "      <td>...</td>\n",
       "      <td>NaN</td>\n",
       "      <td>NaN</td>\n",
       "      <td>0</td>\n",
       "      <td>0</td>\n",
       "      <td>18.203</td>\n",
       "      <td>0</td>\n",
       "      <td>NaN</td>\n",
       "      <td>NaN</td>\n",
       "      <td>NaN</td>\n",
       "      <td>NaN</td>\n",
       "    </tr>\n",
       "  </tbody>\n",
       "</table>\n",
       "<p>5 rows × 30 columns</p>\n",
       "</div>"
      ],
      "text/plain": [
       "   !Num  ...Nombre...  #Uni  Tipo  .PotIns  .GerMin  .GerMax  ..Teif.  \\\n",
       "0  1001  BARRANQUILL3     1     0     60.0        0     60.0     5.44   \n",
       "1  1003  BARRANQUILL4     1     0     60.0        0     60.0     7.18   \n",
       "2  1068        TEBSAB     1     0    791.0        0    791.0     5.70   \n",
       "3  1069      TEBSAGIM     1     0    791.0        0    791.0     5.70   \n",
       "4  1036      FLORES 1     1     0    160.0        0    160.0     3.76   \n",
       "\n",
       "   ..Ih...  .CVaria  ...  ...2  ...3  ComT  CTransp  StartUp  sfal  NGas  \\\n",
       "0    21.24     5.53  ...   NaN   NaN     0        0   16.682     0   NaN   \n",
       "1    21.34     5.53  ...   NaN   NaN     0        0   16.682     0   NaN   \n",
       "2     9.10     5.53  ...   NaN   NaN     0        0   23.347     0   NaN   \n",
       "3     9.10     5.53  ...   0.0   0.0     0        0   23.347     0   NaN   \n",
       "4     9.20     5.53  ...   NaN   NaN     0        0   18.203     0   NaN   \n",
       "\n",
       "   NuCC  ..NombreCC..  CoefE.  \n",
       "0   NaN           NaN     1.0  \n",
       "1   NaN           NaN     NaN  \n",
       "2   NaN           NaN     NaN  \n",
       "3   NaN           NaN     NaN  \n",
       "4   NaN           NaN     NaN  \n",
       "\n",
       "[5 rows x 30 columns]"
      ]
     },
     "execution_count": 18,
     "metadata": {},
     "output_type": "execute_result"
    }
   ],
   "source": [
    "p_t.head()"
   ]
  },
  {
   "cell_type": "code",
   "execution_count": 19,
   "metadata": {},
   "outputs": [],
   "source": [
    "#Creación de dataframe vacio para gen_info\n",
    "gen_info_t = pd.DataFrame()"
   ]
  },
  {
   "cell_type": "code",
   "execution_count": 20,
   "metadata": {},
   "outputs": [],
   "source": [
    "#Mapeo de generation project\n",
    "gen_info_t[\"GENERATION_PROJECT\"] = p_t[\"...Nombre...\"]"
   ]
  },
  {
   "cell_type": "code",
   "execution_count": 21,
   "metadata": {},
   "outputs": [],
   "source": [
    "#Mapeo de gen_tech\n",
    "num_rows = len(gen_info_t.index)\n",
    "tech = [\"Thermal\" for i in range(num_rows)]\n",
    "gen_info_t[\"gen_tech\"] = tech"
   ]
  },
  {
   "cell_type": "code",
   "execution_count": 22,
   "metadata": {},
   "outputs": [],
   "source": [
    "#Mapeo de combustible\n",
    "combustibles = pd.read_excel(\"../combustible/combustibles.xlsx\", sheet_name = \"ccombuco\")\n",
    "#Diccionario para mapearlo\n",
    "map_comb = {}\n",
    "for i in range(len(combustibles.index)):\n",
    "    map_comb[combustibles[\"!Num\"][i]] = combustibles[\"Nome\"][i] #Mapeo num:nombre\n",
    "#Se asigna en una lista\n",
    "name_comb = []\n",
    "for i in range(num_rows):\n",
    "    name_comb.append(map_comb[p_t[\"Comb\"][i]])\n",
    "gen_info_t[\"Gen_energy_source\"] = name_comb"
   ]
  },
  {
   "cell_type": "code",
   "execution_count": 23,
   "metadata": {},
   "outputs": [
    {
     "name": "stdout",
     "output_type": "stream",
     "text": [
      "falta info\n",
      "falta info\n"
     ]
    }
   ],
   "source": [
    "#Mapeo de zonas\n",
    "prefix_zone = {\"BARRANQUILL\": \"ATLANTICO\", \"TEBSA\": \"ATLANTICO\", \"FLORES\": \"ATLANTICO\", \"CARTAG\": \"BOLIVAR\", \"PROELECTRIC\": \"BOLIVAR\", \"CANDELARIA\": \"BOLIVAR\", \"TERMONORTE\": \"GCM\", \"GUAJ\": \"GCM\", \"TC_GECELCA\":\"COR-SUC\", \"PAIPA\": \"BOY-CAS\", \"TASAJERO\": \"NSANT\", \"ZIPA\": \"BOG-CUN\", \"MERILECTRICA\": \"SANT-ARA\", \"SIERRA\": \"ANT-CHO\", \"TERMOCENTRO\": \"SANT-ARA\", \"TERMODORA\": \"CQR\", \"TERMOVA\": \"VALLE\", \"TERMOEMC\": \"VALLE\", \"YOPAL\": \"BOY-CAS\", \"TERMORUBIALE\": \"MET-GUAV\", \"ELTESORITO\": \"COR-SUC\"}\n",
    "\"Asignación en una lista\"\n",
    "name_zone = []\n",
    "for i in range(num_rows):\n",
    "    cond = False\n",
    "    for j in prefix_zone:\n",
    "        if j in p_t[\"...Nombre...\"][i]:\n",
    "            name_zone.append(prefix_zone[j])\n",
    "            cond = True\n",
    "            break\n",
    "    if not cond:\n",
    "        print(\"falta info\")\n",
    "        name_zone.append(\".\")   #Si no lo encuentra pone punto, PROBLEMA!\n",
    "gen_info_t[\"gen_load_zone\"] = name_zone"
   ]
  },
  {
   "cell_type": "code",
   "execution_count": 24,
   "metadata": {},
   "outputs": [],
   "source": [
    "#Mapeo de edad maxima - Aun no esta\n",
    "age = ['.' for i in range(num_rows)]\n",
    "gen_info_t[\"gen_max_age\"] = age"
   ]
  },
  {
   "cell_type": "code",
   "execution_count": 25,
   "metadata": {},
   "outputs": [],
   "source": [
    "#Mapeo de is_variable - Aun no esta\n",
    "variable = ['.' for i in range(num_rows)]\n",
    "gen_info_t[\"gen_is_variable\"] = variable"
   ]
  },
  {
   "cell_type": "code",
   "execution_count": 26,
   "metadata": {},
   "outputs": [],
   "source": [
    "#Mapeo de is_baseload\n",
    "baseload = [1 for i in range(num_rows)]\n",
    "gen_info_t[\"gen_is_baseload\"] = baseload"
   ]
  },
  {
   "cell_type": "code",
   "execution_count": 27,
   "metadata": {},
   "outputs": [],
   "source": [
    "#Mapeo de full_load_heat_rate - Aun no esta\n",
    "h_r = ['.' for i in range(num_rows)]\n",
    "gen_info_t[\"gen_full_load_heat_rate\"] = h_r"
   ]
  },
  {
   "cell_type": "code",
   "execution_count": 28,
   "metadata": {},
   "outputs": [],
   "source": [
    "#Mapeo de variable_om\n",
    "gen_info_t[\"gen_variable_om\"] = p_t[\".CVaria\"]"
   ]
  },
  {
   "cell_type": "code",
   "execution_count": 29,
   "metadata": {},
   "outputs": [],
   "source": [
    "#Mapo de connect_cost_per_mw - Aun no esta\n",
    "cc_mw = ['.' for i in range(num_rows)]\n",
    "gen_info_t[\"gen_connect_cost_per_mw\"] = cc_mw"
   ]
  },
  {
   "cell_type": "code",
   "execution_count": 32,
   "metadata": {},
   "outputs": [],
   "source": [
    "gen_info_t.to_csv('gen_info_thermal.csv')"
   ]
  },
  {
   "cell_type": "code",
   "execution_count": null,
   "metadata": {},
   "outputs": [],
   "source": []
  }
 ],
 "metadata": {
  "kernelspec": {
   "display_name": "Python 3 (ipykernel)",
   "language": "python",
   "name": "python3"
  },
  "language_info": {
   "codemirror_mode": {
    "name": "ipython",
    "version": 3
   },
   "file_extension": ".py",
   "mimetype": "text/x-python",
   "name": "python",
   "nbconvert_exporter": "python",
   "pygments_lexer": "ipython3",
   "version": "3.7.3"
  }
 },
 "nbformat": 4,
 "nbformat_minor": 4
}
