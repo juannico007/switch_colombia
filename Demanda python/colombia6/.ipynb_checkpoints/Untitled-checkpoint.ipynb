{
 "cells": [
  {
   "cell_type": "code",
   "execution_count": 1,
   "metadata": {},
   "outputs": [],
   "source": [
    "import pandas as pd"
   ]
  },
  {
   "cell_type": "code",
   "execution_count": 21,
   "metadata": {},
   "outputs": [],
   "source": [
    "#Leer el archivo creado\n",
    "zones = pd.read_excel(\"datos_python.xlsx\", sheet_name = 1, header = None, names=[\"LOAD_ZONE\", \"TIMEPOINT\", \"zone_demand_mw\"])\n",
    "#Extrae las zonas\n",
    "load_zones = pd.unique(zones[\"LOAD_ZONE\"])\n",
    "#Se convierte a dataframe\n",
    "load_zones=pd.DataFrame({'LOAD_ZONE':load_zones})\n",
    "#Se crea el archivo load_zones\n",
    "load_zones.to_csv('load_zones.csv', index = None, header=True)"
   ]
  },
  {
   "cell_type": "code",
   "execution_count": 23,
   "metadata": {},
   "outputs": [
    {
     "data": {
      "text/html": [
       "<div>\n",
       "<style scoped>\n",
       "    .dataframe tbody tr th:only-of-type {\n",
       "        vertical-align: middle;\n",
       "    }\n",
       "\n",
       "    .dataframe tbody tr th {\n",
       "        vertical-align: top;\n",
       "    }\n",
       "\n",
       "    .dataframe thead th {\n",
       "        text-align: right;\n",
       "    }\n",
       "</style>\n",
       "<table border=\"1\" class=\"dataframe\">\n",
       "  <thead>\n",
       "    <tr style=\"text-align: right;\">\n",
       "      <th></th>\n",
       "      <th>LOAD_ZONE</th>\n",
       "      <th>TIMEPOINT</th>\n",
       "      <th>zone_demand_mw</th>\n",
       "    </tr>\n",
       "  </thead>\n",
       "  <tbody>\n",
       "    <tr>\n",
       "      <th>0</th>\n",
       "      <td>HTC</td>\n",
       "      <td>1</td>\n",
       "      <td>339.787926</td>\n",
       "    </tr>\n",
       "    <tr>\n",
       "      <th>1</th>\n",
       "      <td>HTC</td>\n",
       "      <td>2</td>\n",
       "      <td>325.630096</td>\n",
       "    </tr>\n",
       "    <tr>\n",
       "      <th>2</th>\n",
       "      <td>HTC</td>\n",
       "      <td>3</td>\n",
       "      <td>315.517360</td>\n",
       "    </tr>\n",
       "    <tr>\n",
       "      <th>3</th>\n",
       "      <td>HTC</td>\n",
       "      <td>4</td>\n",
       "      <td>335.742832</td>\n",
       "    </tr>\n",
       "    <tr>\n",
       "      <th>4</th>\n",
       "      <td>HTC</td>\n",
       "      <td>5</td>\n",
       "      <td>350.638891</td>\n",
       "    </tr>\n",
       "  </tbody>\n",
       "</table>\n",
       "</div>"
      ],
      "text/plain": [
       "  LOAD_ZONE  TIMEPOINT  zone_demand_mw\n",
       "0       HTC          1      339.787926\n",
       "1       HTC          2      325.630096\n",
       "2       HTC          3      315.517360\n",
       "3       HTC          4      335.742832\n",
       "4       HTC          5      350.638891"
      ]
     },
     "execution_count": 23,
     "metadata": {},
     "output_type": "execute_result"
    }
   ],
   "source": [
    "zones = pd.read_excel(\"datos_python.xlsx\", sheet_name = 1, header = None, names=[\"LOAD_ZONE\", \"TIMEPOINT\", \"zone_demand_mw\"])\n",
    "zones.head()"
   ]
  },
  {
   "cell_type": "code",
   "execution_count": null,
   "metadata": {},
   "outputs": [],
   "source": []
  }
 ],
 "metadata": {
  "kernelspec": {
   "display_name": "Python 3 (ipykernel)",
   "language": "python",
   "name": "python3"
  },
  "language_info": {
   "codemirror_mode": {
    "name": "ipython",
    "version": 3
   },
   "file_extension": ".py",
   "mimetype": "text/x-python",
   "name": "python",
   "nbconvert_exporter": "python",
   "pygments_lexer": "ipython3",
   "version": "3.7.3"
  }
 },
 "nbformat": 4,
 "nbformat_minor": 4
}
